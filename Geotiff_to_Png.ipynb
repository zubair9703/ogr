{
 "cells": [
  {
   "cell_type": "code",
   "execution_count": null,
   "id": "965e8939",
   "metadata": {},
   "outputs": [],
   "source": [
    "from osgeo import gdal\n",
    "import os\n",
    "import numpy as np"
   ]
  },
  {
   "cell_type": "code",
   "execution_count": null,
   "id": "3fb22d40",
   "metadata": {},
   "outputs": [],
   "source": [
    "os.chdir('J:/New folder/')"
   ]
  },
  {
   "cell_type": "code",
   "execution_count": null,
   "id": "ad87fe6f",
   "metadata": {},
   "outputs": [],
   "source": [
    "in_ds=gdal.Open('Bathymetry_rasterizedfull.tif')"
   ]
  },
  {
   "cell_type": "code",
   "execution_count": null,
   "id": "2cc98519",
   "metadata": {},
   "outputs": [],
   "source": [
    "driver=gdal.GetDriverByName('PNG')"
   ]
  },
  {
   "cell_type": "code",
   "execution_count": null,
   "id": "f9eb560d",
   "metadata": {},
   "outputs": [],
   "source": [
    "out_band=driver.CreateCopy('Bfinal.png',in_ds)\n",
    "print(out_band)"
   ]
  },
  {
   "cell_type": "code",
   "execution_count": null,
   "id": "14c1b182",
   "metadata": {},
   "outputs": [],
   "source": [
    "out_band.GetRasterBand(1)"
   ]
  },
  {
   "cell_type": "code",
   "execution_count": null,
   "id": "90080aa1",
   "metadata": {},
   "outputs": [],
   "source": [
    "del out_band"
   ]
  },
  {
   "cell_type": "code",
   "execution_count": null,
   "id": "e4f5b82a",
   "metadata": {},
   "outputs": [],
   "source": [
    "import osgeo\n",
    "osgeo.gdal.VersionInfo()"
   ]
  },
  {
   "cell_type": "code",
   "execution_count": null,
   "id": "940add9d",
   "metadata": {},
   "outputs": [],
   "source": []
  }
 ],
 "metadata": {
  "hide_input": false,
  "kernelspec": {
   "display_name": "Python 3 (ipykernel)",
   "language": "python",
   "name": "python3"
  },
  "language_info": {
   "codemirror_mode": {
    "name": "ipython",
    "version": 3
   },
   "file_extension": ".py",
   "mimetype": "text/x-python",
   "name": "python",
   "nbconvert_exporter": "python",
   "pygments_lexer": "ipython3",
   "version": "3.8.0"
  },
  "toc": {
   "base_numbering": 1,
   "nav_menu": {},
   "number_sections": true,
   "sideBar": true,
   "skip_h1_title": false,
   "title_cell": "Table of Contents",
   "title_sidebar": "Contents",
   "toc_cell": false,
   "toc_position": {},
   "toc_section_display": true,
   "toc_window_display": false
  }
 },
 "nbformat": 4,
 "nbformat_minor": 5
}
