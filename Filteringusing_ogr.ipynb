{
 "cells": [
  {
   "cell_type": "code",
   "execution_count": 1,
   "id": "430f773f",
   "metadata": {},
   "outputs": [],
   "source": [
    "import os\n",
    "import sys\n",
    "from osgeo import ogr\n",
    "import ospybook as pb\n",
    "from ospybook.vectorplotter import VectorPlotter"
   ]
  },
  {
   "cell_type": "code",
   "execution_count": 2,
   "id": "31b71396",
   "metadata": {},
   "outputs": [],
   "source": [
    "os.chdir('J:/New folder/')"
   ]
  },
  {
   "cell_type": "code",
   "execution_count": 3,
   "id": "12683492",
   "metadata": {},
   "outputs": [],
   "source": [
    "ds=ogr.Open('District/District.shp',1)"
   ]
  },
  {
   "cell_type": "code",
   "execution_count": 4,
   "id": "94735c4d",
   "metadata": {},
   "outputs": [],
   "source": [
    "in_ly=ds.GetLayer(0)"
   ]
  },
  {
   "cell_type": "code",
   "execution_count": 5,
   "id": "c656810c",
   "metadata": {},
   "outputs": [
    {
     "name": "stdout",
     "output_type": "stream",
     "text": [
      "FID    Geometry        KGISDist_1           KGISDistri    SHAPE_STAr       SHAPE_STLe       \n",
      "0      MULTIPOLYGON    Belagavi             01            13398479070.1    1142233.50018    \n",
      "1      POLYGON         Bagalkot             02            6561926674.19    668500.533343    \n",
      "2      POLYGON         Vijayapura           03            10503043847.8    703229.883145    \n",
      "3      MULTIPOLYGON    Kalburgi             04            10975292227.7    916445.971155    \n",
      "4      MULTIPOLYGON    Bidar                05            5454516058.59    573366.419823    \n",
      "5      POLYGON         Raichur              06            8469931948.38    550801.981963    \n",
      "6      POLYGON         Koppal               07            5576043817.69    547860.43319     \n",
      "7      POLYGON         Gadag                08            4655144774.61    569504.196822    \n",
      "8      POLYGON         Dharwad              09            4254855924.7     478355.655351    \n",
      "9      MULTIPOLYGON    Uttara Kannada       10            10297310532.8    801845.4832      \n",
      "10     POLYGON         Haveri               11            4817641109.86    483425.261675    \n",
      "11     MULTIPOLYGON    Ballari              12            4226166555.54    578953.355089    \n",
      "12     POLYGON         Chitradurga          13            8434729532.55    686433.46444     \n",
      "13     POLYGON         Davanagere           14            4479650243.21    543388.864169    \n",
      "14     POLYGON         Shivamogga           15            8473172465.59    777316.249465    \n",
      "15     MULTIPOLYGON    Udupi                16            3570720177.93    394399.570888    \n",
      "16     POLYGON         Chikkamagaluru       17            7209478572.18    609870.841533    \n",
      "17     MULTIPOLYGON    Tumakuru             18            10603240038.3    1103201.42441    \n",
      "18     POLYGON         Kolara               19            3989933476.42    517929.549595    \n",
      "19     MULTIPOLYGON    Bengaluru (Urban)    20            2195421731.01    344274.168005    \n",
      "20     POLYGON         Bengaluru (Rural)    21            2300530778.73    518185.286893    \n",
      "21     MULTIPOLYGON    Mandya               22            4955722112.49    570752.168169    \n",
      "22     POLYGON         Hassan               23            6818659434.82    672148.600558    \n",
      "23     POLYGON         Dakshina Kannada     24            4844943671.36    498764.287956    \n",
      "24     POLYGON         Kodagu               25            4113393932.18    496549.687339    \n",
      "25     POLYGON         Mysuru               26            6310553573.3     704026.055438    \n",
      "26     POLYGON         Chamarajanagara      27            5639259558.49    601759.913702    \n",
      "27     POLYGON         Chikkaballapura      28            4251058332.03    515165.778169    \n",
      "28     MULTIPOLYGON    Ramanagara           29            3528099544.55    489121.174302    \n",
      "29     POLYGON         Yadgir               30            5274988054.38    554742.603191    \n",
      "30     POLYGON         Vijayanagara         31            5667647031.55    639492.372472    \n",
      "31 of 31 features\n"
     ]
    }
   ],
   "source": [
    "pb.print_attributes(in_ly,31,['KGISDist_1','KGISDistri','SHAPE_STAr','SHAPE_STLe'])"
   ]
  },
  {
   "cell_type": "code",
   "execution_count": 6,
   "id": "2bd96ac4",
   "metadata": {},
   "outputs": [
    {
     "data": {
      "text/plain": [
       "0"
      ]
     },
     "execution_count": 6,
     "metadata": {},
     "output_type": "execute_result"
    }
   ],
   "source": [
    "in_ly.SetAttributeFilter('SHAPE_STAr>= 6310553573.3  ')"
   ]
  },
  {
   "cell_type": "code",
   "execution_count": 7,
   "id": "4ba2e00b",
   "metadata": {},
   "outputs": [
    {
     "data": {
      "text/plain": [
       "12"
      ]
     },
     "execution_count": 7,
     "metadata": {},
     "output_type": "execute_result"
    }
   ],
   "source": [
    "in_ly.GetFeatureCount()"
   ]
  },
  {
   "cell_type": "code",
   "execution_count": 8,
   "id": "eee836af",
   "metadata": {},
   "outputs": [
    {
     "name": "stdout",
     "output_type": "stream",
     "text": [
      "Belagavi\n",
      "Bagalkot\n",
      "Vijayapura\n",
      "Kalburgi\n",
      "Raichur\n",
      "Uttara Kannada\n",
      "Chitradurga\n",
      "Shivamogga\n",
      "Chikkamagaluru\n",
      "Tumakuru\n",
      "Hassan\n",
      "Mysuru\n"
     ]
    }
   ],
   "source": [
    "i=0\n",
    "for f in in_ly:\n",
    "    features=f.GetField('KGISDist_1')\n",
    "    print(features)\n",
    "    if i==3:\n",
    "        break"
   ]
  },
  {
   "cell_type": "code",
   "execution_count": 9,
   "id": "7575cb80",
   "metadata": {},
   "outputs": [],
   "source": [
    "driver=ogr.GetDriverByName('ESRI shapefile')"
   ]
  },
  {
   "cell_type": "code",
   "execution_count": 10,
   "id": "93f2ea62",
   "metadata": {},
   "outputs": [],
   "source": [
    "out_ds=driver.CreateDataSource('filtered.shp')"
   ]
  },
  {
   "cell_type": "code",
   "execution_count": 11,
   "id": "d6063244",
   "metadata": {},
   "outputs": [],
   "source": [
    "out_ly=out_ds.CopyLayer(in_ly,'filtered')"
   ]
  },
  {
   "cell_type": "code",
   "execution_count": 12,
   "id": "f7665c6d",
   "metadata": {},
   "outputs": [],
   "source": [
    "out_ly.CreateFields(in_ly.schema)"
   ]
  },
  {
   "cell_type": "code",
   "execution_count": 13,
   "id": "6ba57cef",
   "metadata": {},
   "outputs": [],
   "source": [
    "del out_ds,out_ly,ds,in_ly"
   ]
  }
 ],
 "metadata": {
  "kernelspec": {
   "display_name": "Python 3 (ipykernel)",
   "language": "python",
   "name": "python3"
  },
  "language_info": {
   "codemirror_mode": {
    "name": "ipython",
    "version": 3
   },
   "file_extension": ".py",
   "mimetype": "text/x-python",
   "name": "python",
   "nbconvert_exporter": "python",
   "pygments_lexer": "ipython3",
   "version": "3.8.0"
  }
 },
 "nbformat": 4,
 "nbformat_minor": 5
}
