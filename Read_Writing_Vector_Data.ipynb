{
 "cells": [
  {
   "cell_type": "code",
   "execution_count": 1,
   "id": "fd0e0c59",
   "metadata": {},
   "outputs": [],
   "source": [
    "from osgeo import ogr\n",
    "import os\n",
    "import sys\n",
    "import ospybook as pb\n",
    "from ospybook.vectorplotter import VectorPlotter"
   ]
  },
  {
   "cell_type": "code",
   "execution_count": 2,
   "id": "3fc7a845",
   "metadata": {},
   "outputs": [],
   "source": [
    "os.chdir('J:/New folder/')"
   ]
  },
  {
   "cell_type": "code",
   "execution_count": 3,
   "id": "0a48cd20",
   "metadata": {},
   "outputs": [],
   "source": [
    "ds=ogr.Open('District/District.shp')"
   ]
  },
  {
   "cell_type": "code",
   "execution_count": 4,
   "id": "8b8833a6",
   "metadata": {},
   "outputs": [],
   "source": [
    "layer=ds.GetLayer(0)"
   ]
  },
  {
   "cell_type": "code",
   "execution_count": 5,
   "id": "846cff58",
   "metadata": {},
   "outputs": [
    {
     "name": "stdout",
     "output_type": "stream",
     "text": [
      "(401635.7703999998, 888865.7544999998, 1282418.1261999998, 2044541.0735999998)\n"
     ]
    }
   ],
   "source": [
    "extent=layer.GetExtent()\n",
    "print(extent)"
   ]
  },
  {
   "cell_type": "code",
   "execution_count": 6,
   "id": "2d38a7b8",
   "metadata": {},
   "outputs": [],
   "source": [
    "count=layer.GetFeatureCount()"
   ]
  },
  {
   "cell_type": "code",
   "execution_count": 7,
   "id": "c7b31383",
   "metadata": {},
   "outputs": [
    {
     "name": "stdout",
     "output_type": "stream",
     "text": [
      "District\n",
      "District\n",
      "True\n",
      "<osgeo.ogr.FeatureDefn; proxy of <Swig Object of type 'OGRFeatureDefnShadow *' at 0x00000262B520F570> >\n",
      "last feature is Vijayanagara\n"
     ]
    }
   ],
   "source": [
    "print(layer.GetDescription())\n",
    "print(layer.GetName())\n",
    "print(layer.GetGeomType()==ogr.wkbPolygon)\n",
    "# print(layer.GetGeometryName())\n",
    "print(layer.GetLayerDefn())\n",
    "print('last feature is {0}'.format(layer.GetFeature(count-1).KGISDist_1))"
   ]
  },
  {
   "cell_type": "code",
   "execution_count": 8,
   "id": "bf9a38f1",
   "metadata": {},
   "outputs": [
    {
     "name": "stdout",
     "output_type": "stream",
     "text": [
      "Belagavi\n"
     ]
    }
   ],
   "source": [
    "feature=layer.GetFeature(0).GetField('KGISDist_1')\n",
    "print(feature)"
   ]
  },
  {
   "cell_type": "code",
   "execution_count": 9,
   "id": "e17f7a10",
   "metadata": {},
   "outputs": [
    {
     "name": "stdout",
     "output_type": "stream",
     "text": [
      "Belagavi Belagavi 0.0 0.0\n",
      "Bagalkot Bagalkot 0.0 0.0\n",
      "Vijayapura Vijayapura 0.0 0.0\n",
      "Kalburgi Kalburgi 0.0 0.0\n",
      "Bidar Bidar 0.0 0.0\n"
     ]
    }
   ],
   "source": [
    "i=0\n",
    "for feature in layer:\n",
    "    geo=feature.GetGeometryRef()\n",
    "    x=geo.GetX()\n",
    "    y=geo.GetY()\n",
    "    print(feature.GetField('KGISDist_1'),feature.GetField('KGISDist_1'),x,y)\n",
    "    i +=1\n",
    "    if i==5:\n",
    "        break\n",
    "#     print(feature.GetField('KGISDist_1'))"
   ]
  },
  {
   "cell_type": "code",
   "execution_count": 10,
   "id": "db2825e6",
   "metadata": {},
   "outputs": [],
   "source": [
    "del ds"
   ]
  },
  {
   "cell_type": "code",
   "execution_count": 11,
   "id": "130db66b",
   "metadata": {},
   "outputs": [],
   "source": [
    "ds1=r'District/District.shp'"
   ]
  },
  {
   "cell_type": "code",
   "execution_count": 12,
   "id": "7bc88553",
   "metadata": {},
   "outputs": [
    {
     "name": "stdout",
     "output_type": "stream",
     "text": [
      "FID    KGISDist_1    KGISDistri    \n",
      "0      Belagavi      01            \n",
      "1      Bagalkot      02            \n",
      "2      Vijayapura    03            \n",
      "3      Kalburgi      04            \n",
      "4      Bidar         05            \n",
      "5 of 31 features\n"
     ]
    }
   ],
   "source": [
    "pb.print_attributes(ds1,5,['KGISDist_1','KGISDistri'],geom=False)"
   ]
  },
  {
   "cell_type": "code",
   "execution_count": 13,
   "id": "54e36d68",
   "metadata": {},
   "outputs": [],
   "source": [
    "ds=ogr.Open('District/District.shp',1)\n",
    "layer=ds.GetLayer()\n",
    "# feature=layer.GetFeature(1)"
   ]
  },
  {
   "cell_type": "code",
   "execution_count": 14,
   "id": "6e3d0978",
   "metadata": {},
   "outputs": [],
   "source": [
    "driver=ogr.GetDriverByName('ESRI shapefile')"
   ]
  },
  {
   "cell_type": "code",
   "execution_count": 15,
   "id": "1ce7812d",
   "metadata": {},
   "outputs": [],
   "source": [
    "outds=driver.CreateDataSource('Districtout.shp')"
   ]
  },
  {
   "cell_type": "code",
   "execution_count": 16,
   "id": "14e3e354",
   "metadata": {},
   "outputs": [],
   "source": [
    "outlayer=ds.CopyLayer(layer,'Districtout')"
   ]
  },
  {
   "cell_type": "code",
   "execution_count": 17,
   "id": "94dcedc2",
   "metadata": {},
   "outputs": [],
   "source": [
    "outlayer.CreateFields(layer.schema)"
   ]
  },
  {
   "cell_type": "code",
   "execution_count": 18,
   "id": "828299f4",
   "metadata": {},
   "outputs": [
    {
     "data": {
      "text/plain": [
       "0"
      ]
     },
     "execution_count": 18,
     "metadata": {},
     "output_type": "execute_result"
    }
   ],
   "source": [
    "newcol= ogr.FieldDefn(\"Perimter\",ogr.OFTReal)\n",
    "newcol.SetWidth(5)\n",
    "newcol.SetPrecision(3)\n",
    "outlayer.CreateField(newcol)\n",
    "newcol.SetName('Area')\n",
    "outlayer.CreateField(newcol)\n",
    "newcol.SetName('x')\n",
    "outlayer.CreateField(newcol)\n",
    "newcol.SetName('y')\n",
    "outlayer.CreateField(newcol)"
   ]
  },
  {
   "cell_type": "code",
   "execution_count": 19,
   "id": "1c785b7c",
   "metadata": {},
   "outputs": [],
   "source": [
    "for feature in outlayer:\n",
    "    geom=feature.GetGeometryRef()\n",
    "    perim=geom.Boundary().Length()\n",
    "    area=geom.GetArea()\n",
    "    x=geom.GetX()\n",
    "    y=geom.GetY()\n",
    "    feature.SetField(\"Perimter\",perim)\n",
    "    feature.SetField(\"Area\",area)\n",
    "    feature.SetField(\"x\",x)\n",
    "    feature.SetField(\"y\",y)\n",
    "    outlayer.SetFeature(feature)"
   ]
  },
  {
   "cell_type": "code",
   "execution_count": 20,
   "id": "5626d81a",
   "metadata": {},
   "outputs": [],
   "source": [
    "del  ds,outlayer,outds"
   ]
  },
  {
   "cell_type": "code",
   "execution_count": 21,
   "id": "3b44a2f3",
   "metadata": {},
   "outputs": [],
   "source": [
    "ds=ogr.Open('District/Districtout.shp',1)"
   ]
  },
  {
   "cell_type": "code",
   "execution_count": 22,
   "id": "a9b4f5fb",
   "metadata": {},
   "outputs": [],
   "source": [
    "layer=ds.GetLayer()"
   ]
  },
  {
   "cell_type": "code",
   "execution_count": 23,
   "id": "20dd0e86",
   "metadata": {},
   "outputs": [
    {
     "name": "stdout",
     "output_type": "stream",
     "text": [
      "23\n"
     ]
    }
   ],
   "source": [
    "i=layer.GetLayerDefn().GetFieldIndex('Area')\n",
    "print(i)"
   ]
  },
  {
   "cell_type": "code",
   "execution_count": 24,
   "id": "1dd519e4",
   "metadata": {},
   "outputs": [
    {
     "data": {
      "text/plain": [
       "0"
      ]
     },
     "execution_count": 24,
     "metadata": {},
     "output_type": "execute_result"
    }
   ],
   "source": [
    "i=layer.GetLayerDefn().GetFieldIndex('Area')\n",
    "field_definition=ogr.FieldDefn('Newarea',ogr.OFTReal)\n",
    "layer.AlterFieldDefn(i,field_definition,ogr.ALTER_NAME_FLAG)"
   ]
  },
  {
   "cell_type": "code",
   "execution_count": 25,
   "id": "c5a65267",
   "metadata": {},
   "outputs": [],
   "source": [
    "del  ds,layer"
   ]
  }
 ],
 "metadata": {
  "kernelspec": {
   "display_name": "Python 3 (ipykernel)",
   "language": "python",
   "name": "python3"
  },
  "language_info": {
   "codemirror_mode": {
    "name": "ipython",
    "version": 3
   },
   "file_extension": ".py",
   "mimetype": "text/x-python",
   "name": "python",
   "nbconvert_exporter": "python",
   "pygments_lexer": "ipython3",
   "version": "3.8.0"
  }
 },
 "nbformat": 4,
 "nbformat_minor": 5
}
